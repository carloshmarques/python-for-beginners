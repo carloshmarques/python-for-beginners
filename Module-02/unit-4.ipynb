{
 "cells": [
  {
   "cell_type": "markdown",
   "metadata": {},
   "source": [
    "### Collect input\n",
    "\n",
    "So far, you've learned various constructs of the Python programming language. You've also authored a couple of programs. However, programs operate on data, and that data comes from somewhere. In this unit, you'll take a closer look at how to collect input from the command line and from user input.\n",
    "\n",
    "### Command-line input\n",
    "When you start a program by using python3, you give it the name of the file to start. You can also give it a set of arguments: data that the program will have access to when running. Here's how that can look:"
   ]
  },
  {
   "cell_type": "code",
   "execution_count": null,
   "metadata": {},
   "outputs": [],
   "source": [
    "python3 backup.py 2023-01-01"
   ]
  },
  {
   "cell_type": "markdown",
   "metadata": {},
   "source": [
    "In the preceding code, the string \"2023-01-01\" can be used as instruction to the program backup.py to start a backup from that date. What you gain by using command-line arguments is flexibility. The program can behave differently depending on its outside input."
   ]
  },
  {
   "cell_type": "markdown",
   "metadata": {},
   "source": [
    "### Command-line arguments\n",
    "How are these commands captured on the coding side of things? By using the sys module, you can retrieve the command-line arguments and use them in your program. Look at the following code:"
   ]
  },
  {
   "cell_type": "code",
   "execution_count": null,
   "metadata": {},
   "outputs": [],
   "source": [
    "import sys\n",
    "\n",
    "print(sys.argv)\n",
    "print(sys.argv[0]) # program name\n",
    "print(sys.argv[1]) # first arg"
   ]
  },
  {
   "cell_type": "markdown",
   "metadata": {},
   "source": [
    "sys.argv is an array or a data structure that contains many items. The first position, denoted as 0 in the array, contains the program name. The second position, 1, contains your first argument. Assume that the program backup.py contains the sample code and you run it like this:"
   ]
  },
  {
   "cell_type": "markdown",
   "metadata": {},
   "source": [
    "###### Console:\n",
    "python3 backup.py 2023-01-01"
   ]
  },
  {
   "cell_type": "markdown",
   "metadata": {},
   "source": [
    "The program then yields the following result:\n",
    "\n",
    "Output\n",
    "\n",
    "['backup.py', '2023-01-01'] \n",
    "backup.py\n",
    "2023-01-01"
   ]
  },
  {
   "cell_type": "markdown",
   "metadata": {},
   "source": [
    "### User input\n",
    "Another way to pass data to the program is having the user enter the data. You can code it so the program tells the user to enter information. You save that entered data in the program and then act on it.\n",
    "\n",
    "To capture information from the user, you'll use the input() function. Here's an example:"
   ]
  },
  {
   "cell_type": "code",
   "execution_count": null,
   "metadata": {},
   "outputs": [],
   "source": [
    "print(\"Welcome to the greeter program\")\n",
    "name = input(\"Enter your name: \")\n",
    "print(\"Greetings \" + name)\n"
   ]
  },
  {
   "cell_type": "markdown",
   "metadata": {},
   "source": [
    "### Working with numbers\n",
    "The input() function stores a result as a string, so the following code might not do what you want it to:"
   ]
  },
  {
   "cell_type": "code",
   "execution_count": 13,
   "metadata": {},
   "outputs": [
    {
     "name": "stdout",
     "output_type": "stream",
     "text": [
      "calculator program\n",
      "123\n"
     ]
    }
   ],
   "source": [
    "print(\"calculator program\")\n",
    "first_number = input(\"first number: \")\n",
    "second_number = input(\"second number: \")\n",
    "print(first_number + second_number)"
   ]
  },
  {
   "cell_type": "markdown",
   "metadata": {},
   "source": [
    "You probably meant for this program to answer you with 7 instead of 34. So what went wrong?\n",
    "\n",
    "The explanation is that first_number and second_number are strings. For the calculation to work correctly, you need to change those strings to numbers by using the int() function. By modifying the last line of the program to use int(), you can resolve the problem:"
   ]
  },
  {
   "cell_type": "code",
   "execution_count": 14,
   "metadata": {},
   "outputs": [
    {
     "name": "stdout",
     "output_type": "stream",
     "text": [
      "15\n"
     ]
    }
   ],
   "source": [
    "print(int(first_number) + int(second_number))"
   ]
  }
 ],
 "metadata": {
  "kernelspec": {
   "display_name": "base",
   "language": "python",
   "name": "python3"
  },
  "language_info": {
   "codemirror_mode": {
    "name": "ipython",
    "version": 3
   },
   "file_extension": ".py",
   "mimetype": "text/x-python",
   "name": "python",
   "nbconvert_exporter": "python",
   "pygments_lexer": "ipython3",
   "version": "3.11.7"
  }
 },
 "nbformat": 4,
 "nbformat_minor": 2
}
