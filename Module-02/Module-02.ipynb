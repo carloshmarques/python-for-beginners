{
 "cells": [
  {
   "cell_type": "markdown",
   "metadata": {},
   "source": [
    "## Introduction\n",
    "\n",
    "### A common task is developing programs that can not only show information on a screen or a console, but also take input from users or even other programs. In this module, you'll build your first program in Python to learn how to handle input and output on the console. You'll also learn Python programming concepts, like variables and converting between data types.\n",
    "\n",
    "### Scenario: A junior programmer building your first apps\n",
    "In this scenario, you're a young space cadet on a spaceship sometime in the future. Your mission is to find and explore new solar systems. You're trained as an engineer, and you're looking to develop a series of utility programs for more senior staff onboard.\n",
    "\n",
    "### What will you learn?\n",
    "#### In this module, you'll learn to:\n",
    "\n",
    "* Use functions to manage input and output to the console\n",
    "* Create variables to store data\n",
    "* Distinguish between data types\n",
    "* Use type conversion to convert between data types\n",
    "* What is the main objective?\n",
    "* Use basic programming elements to create your first Python programs.\n",
    "\n",
    "### What is the main objective?\n",
    "* Use basic programming elements to create your first Python programs.\n",
    "\n",
    "#### Prerequisites\n",
    "##### You should be familiar with the concept of programming.\n"
   ]
  }
 ],
 "metadata": {
  "language_info": {
   "name": "python"
  }
 },
 "nbformat": 4,
 "nbformat_minor": 2
}
