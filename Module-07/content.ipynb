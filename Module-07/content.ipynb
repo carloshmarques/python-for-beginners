{
 "cells": [
  {
   "cell_type": "markdown",
   "metadata": {},
   "source": [
    "# Use 'while' and 'for' loops in Python\n",
    "\n",
    "* Beginner\n",
    "* Student\n",
    "* Developer\n",
    "* Azure\n",
    "\n",
    "With Python, you can use while loops to run the same task multiple times and for loops to loop once over list data. In this module, you'll learn about the two loop types and when to apply each.\n",
    "\n",
    "## Learning objectives\n",
    "After you've completed this module, you'll be able to:\n",
    "\n",
    "* Identify when to use while and for loops.\n",
    "* Run a task multiple times by using while loops.\n",
    "* Loop over list data by using for loops.\n",
    "\n",
    "### Prerequisites\n",
    "\n",
    "* Basic Python programming knowledge, including the use of variables, strings, integers, and math.\n",
    "* Experience working with lists in Python.\n",
    "* Experience modifying and running code in Jupyter notebooks.\n",
    "\n",
    "#### This module is part of these learning paths\n",
    "Python for beginners\n"
   ]
  }
 ],
 "metadata": {
  "language_info": {
   "name": "python"
  }
 },
 "nbformat": 4,
 "nbformat_minor": 2
}
