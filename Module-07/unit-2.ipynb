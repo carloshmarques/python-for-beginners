{
 "cells": [
  {
   "cell_type": "markdown",
   "metadata": {},
   "source": [
    "# About 'while' loops\n",
    "\n",
    "When you write code, one common challenge is to have it perform a task an unknown number of times. In this unit, you want to allow a user to enter a list of planet names. Unfortunately, you don't know how many names the user enters. To support looping an unknown number of times, you can use a while loop.\n",
    "\n",
    "A while loop performs an operation while a certain condition is true. You could use a while loop to:\n",
    "\n",
    "* Check for another line in a file.\n",
    "* Check if a flag has been set.\n",
    "* Check if a user has finished entering values.\n",
    "* Check if something else has changed to indicate that the code can stop performing the operation."
   ]
  },
  {
   "cell_type": "markdown",
   "metadata": {},
   "source": [
    "## ***Important:***\n",
    "\n",
    "The most important thing to remember when you create while loops is to ensure that the condition changes. If the condition is always true, Python will continue to run your code until the program crashes."
   ]
  },
  {
   "cell_type": "markdown",
   "metadata": {},
   "source": [
    "The syntax of a while loop is similar to that of an if statement. You provide both a condition and the code you want to run while the condition is true.\n",
    "\n",
    "A while loop has three important parts:\n",
    "\n",
    "* The keyword while, followed by a space.\n",
    "\n",
    "* The condition you test. If the condition is true, the code inside the while loop runs.\n",
    "\n",
    "* The code you want to run for each iteration, indented with nested whitespace. For example:\n",
    "\n"
   ]
  },
  {
   "cell_type": "code",
   "execution_count": null,
   "metadata": {},
   "outputs": [],
   "source": [
    "while <condition>:\n",
    "    # code here"
   ]
  },
  {
   "cell_type": "markdown",
   "metadata": {},
   "source": [
    "Let's see how you can create code to prompt users to enter values, and then allow them to enter done when they've finished entering the values. In our example, the user input is the condition that is tested at the top of the while loop."
   ]
  },
  {
   "cell_type": "code",
   "execution_count": 1,
   "metadata": {},
   "outputs": [],
   "source": [
    "user_input = ''\n",
    "\n",
    "while user_input.lower() != 'done':\n",
    "    user_input = input('Enter a new value, or done when done')"
   ]
  },
  {
   "cell_type": "markdown",
   "metadata": {},
   "source": [
    "Notice that you're using input to prompt the users. Each time users enter a new value they're changing the condition, which means that the while loop will exit after they've entered done.\n",
    "\n",
    "***Note:***\n",
    "\n",
    "In our example, we've used lower to convert the input to lowercase, which allows for a case-insensitive comparison.\n",
    "\n",
    "You can use the newly entered string as you would any other string that's captured with input. If you want to add it to a list, you could use code that's similar to the following example:"
   ]
  },
  {
   "cell_type": "code",
   "execution_count": 3,
   "metadata": {},
   "outputs": [
    {
     "name": "stdout",
     "output_type": "stream",
     "text": [
      "['15', '16', '18']\n"
     ]
    }
   ],
   "source": [
    "# Create the variable for user input\n",
    "user_input = ''\n",
    "# Create the list to store the values\n",
    "inputs = []\n",
    "\n",
    "# The while loop\n",
    "while user_input.lower() != 'done':\n",
    "    # Check if there's a value in user_input\n",
    "    if user_input:\n",
    "        # Store the value in the list\n",
    "        inputs.append(user_input)\n",
    "    # Prompt for a new value\n",
    "    user_input = input('Enter a new value, or done when done')\n",
    "    # Check if the user wants to exit\n",
    "    if user_input.lower() == 'done':\n",
    "        # Print the list\n",
    "        print(inputs)\n",
    "        "
   ]
  },
  {
   "cell_type": "markdown",
   "metadata": {},
   "source": [
    "Notice the if statement inside the while loop. This statement tests for a string value inside user_input. If the while loop is running for the first time, there's no value, so there's nothing to store in inputs. After it runs for the first time, user_input always keeps the value that the user has entered. Because while is testing to ensure that the value doesn't equal done (the word the user enters to exit the app), you know that the current value is one that you can add to the list.\n",
    "\n",
    "***Note:***\n",
    "\n",
    "You might be familiar with other programming languages that support a do loop, which lets you perform a test at the bottom of the loop. Python doesn't provide a do loop."
   ]
  }
 ],
 "metadata": {
  "kernelspec": {
   "display_name": "base",
   "language": "python",
   "name": "python3"
  },
  "language_info": {
   "codemirror_mode": {
    "name": "ipython",
    "version": 3
   },
   "file_extension": ".py",
   "mimetype": "text/x-python",
   "name": "python",
   "nbconvert_exporter": "python",
   "pygments_lexer": "ipython3",
   "version": "3.11.7"
  }
 },
 "nbformat": 4,
 "nbformat_minor": 2
}
