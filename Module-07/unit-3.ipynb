{
 "cells": [
  {
   "cell_type": "markdown",
   "metadata": {},
   "source": [
    "# Exercise - Create a 'while' loop"
   ]
  },
  {
   "cell_type": "markdown",
   "metadata": {},
   "source": [
    "## Using while loops in Python\n",
    "In Python, while loops let you run code an unknown number of times. The loops examine a Boolean condition and, as long as the condition is true, the code inside the loop will run. This is very useful for situations like prompting a user for values.\n",
    "\n",
    "In this exercise, you're creating an application that prompts a user to enter a list of planets. In a later exercise, you'll add code that displays the list. For now, though, you'll create only the code that prompts the user.\n",
    "\n",
    "This exercise is broken into a series of steps. For each step you will be presented with the goal for the step, followed by an empty cell. Enter your Python into the cell and run it. The solution for each step will follow each cell.\n",
    "\n",
    "Start by adding two variables, one for the input from the user, named new_planet, and another variable for the list of planets, named planets."
   ]
  },
  {
   "cell_type": "code",
   "execution_count": 1,
   "metadata": {},
   "outputs": [],
   "source": [
    "new_planet = ''\n",
    "planets = []"
   ]
  },
  {
   "cell_type": "markdown",
   "metadata": {},
   "source": [
    "## Create a while loop\n",
    "Starting with the variables you've just created, create a while loop. The while loop will run while new_planet is not set to done.\n",
    "\n",
    "Inside the loop, check to see whether the new_planet variable contains a value, which should be the name of a planet. This is a quick way to see whether the user has entered a value. If they have, your code will append that value to the planets variable.\n",
    "\n",
    "Complete the while loop by using input to prompt the user to enter a new planet name or done if they're done entering planet names. You'll store the value from input in the new_planet variable.\n",
    "\n",
    "Finally, outside of the while loop, print the list of planets by using print.\n",
    "\n",
    "As you complete this part of the exercise, pay attention to tab levels to ensure code is run at the correct time."
   ]
  },
  {
   "cell_type": "code",
   "execution_count": 2,
   "metadata": {},
   "outputs": [
    {
     "name": "stdout",
     "output_type": "stream",
     "text": [
      "Here is the list of planets you entered: ['moon', 'jupiter', 'mars', 'neptune']\n"
     ]
    }
   ],
   "source": [
    "while new_planet.lower() !='done':\n",
    "    if new_planet:\n",
    "        planets.append(new_planet)\n",
    "    new_planet = input('Enter a planet name or \"done\" to finish: ')\n",
    "\n",
    "print('Here is the list of planets you entered:', planets)\n"
   ]
  },
  {
   "cell_type": "markdown",
   "metadata": {},
   "source": [
    "## Desired output\n",
    "When you run your notebook you will be prompted for new planet names until you enter done. (Enter a planet name and select \"Submit\". For each new entry, overtype the previous entry and select \"Submit\".) Then you will be presented with a list of the planets you entered."
   ]
  }
 ],
 "metadata": {
  "kernelspec": {
   "display_name": "base",
   "language": "python",
   "name": "python3"
  },
  "language_info": {
   "codemirror_mode": {
    "name": "ipython",
    "version": 3
   },
   "file_extension": ".py",
   "mimetype": "text/x-python",
   "name": "python",
   "nbconvert_exporter": "python",
   "pygments_lexer": "ipython3",
   "version": "3.11.7"
  }
 },
 "nbformat": 4,
 "nbformat_minor": 2
}
