{
 "cells": [
  {
   "cell_type": "markdown",
   "metadata": {},
   "source": [
    "# Introduction\n",
    "\n",
    "Computer programs are great at dealing with repetitive tasks. As a developer, you'll often find yourself needing to loop over sequences of values, such as strings, numbers, and objects. Python provides two mechanisms for performing such tasks: while and for loops.\n",
    "\n",
    "## Scenario: Working with flow control on a planetary app\n",
    "\n",
    "Imagine you're creating an application where users enter a list of planet names. After the users enter the names, you display the results back to them. This scenario requires prompting the users multiple times to enter values, and when they're done, your code displays all the data in the list. In this module, we explore how you can use while and for loops to create this application.\n",
    "\n",
    "By the end of the module, you'll be able to use while and for loops.\n",
    "\n",
    "## What are you learning?\n",
    "After you've completed this module, you can:\n",
    "\n",
    "* Identify when to use while and for loops.\n",
    "* Run a task multiple times by using while loops.\n",
    "* Loop over list data by using for loops.\n",
    "\n",
    "## What is the main objective?\n",
    "In this module, learn how to apply flow control to your app to repeat statements and work with list structures."
   ]
  }
 ],
 "metadata": {
  "language_info": {
   "name": "python"
  }
 },
 "nbformat": 4,
 "nbformat_minor": 2
}
