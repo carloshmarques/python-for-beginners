{
 "cells": [
  {
   "cell_type": "markdown",
   "metadata": {},
   "source": [
    "# Introduction to lists in Python\n",
    "\n",
    "## You'll often work with multiple values in a program. In Python, you can group data together by using lists. In this module, you'll learn how to use lists and what the most common tasks with lists are.\n",
    "\n",
    "### Learning objectives\n",
    "##### By the end of this module, you'll be able to:\n",
    "\n",
    "* Identify when to use a list.\n",
    "* Create a list with string values and numeric values.\n",
    "* Access a particular item in a list by using indexes.\n",
    "* Push items to the end of a list.\n",
    "* Sort and slice a list.\n",
    "## Prerequisites\n",
    "* Basic Python programming knowledge, which includes use of variables, strings, integers, and math\n",
    "* Experience modifying and running code in Jupyter notebooks\n",
    "##### This module is part of these learning paths\n",
    "Python for beginners"
   ]
  }
 ],
 "metadata": {
  "language_info": {
   "name": "python"
  }
 },
 "nbformat": 4,
 "nbformat_minor": 2
}
