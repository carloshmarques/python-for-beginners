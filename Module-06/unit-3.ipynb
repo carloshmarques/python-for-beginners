{
 "cells": [
  {
   "cell_type": "markdown",
   "metadata": {},
   "source": [
    "# Exercise - Create and use Python lists"
   ]
  },
  {
   "cell_type": "markdown",
   "metadata": {},
   "source": [
    "### Exercise: Use lists to store planet names\n",
    "Lists allow you to store multiple values in a single variable. In this notebook you'll create a project to display information about the planets.\n",
    "\n",
    "This exercise is broken into a series of steps. For each step you will be presented with the goal for the step, followed by an empty cell. Enter your Python into the cell and run it. The solution for each step will follow each cell.\n",
    "\n",
    "### Add all planets to a list\n",
    "First, create a variable named planets. Add the eight planets (without Pluto) to the list. The planets are:\n",
    "\n",
    "* Mercury\n",
    "* Venus\n",
    "* Earth\n",
    "* Mars\n",
    "* Jupiter\n",
    "* Saturn\n",
    "* Uranus\n",
    "* Neptune\n",
    "\n",
    "Finish by using print to display the list of planets."
   ]
  },
  {
   "cell_type": "code",
   "execution_count": 10,
   "metadata": {},
   "outputs": [],
   "source": [
    "# Exercise - Create and use Python lists\n",
    "# Create a list of 8 items\n",
    "planets = ['Mercury', 'Venus', 'Earth', 'Mars', 'Jupiter', 'Saturn', 'Uranus', 'Neptune']\n"
   ]
  },
  {
   "cell_type": "markdown",
   "metadata": {},
   "source": [
    "### Display the number of planets\n",
    "Next, display the total number of planets by using len and print."
   ]
  },
  {
   "cell_type": "code",
   "execution_count": 11,
   "metadata": {},
   "outputs": [
    {
     "name": "stdout",
     "output_type": "stream",
     "text": [
      "The total number of planets is: 8 planets\n"
     ]
    }
   ],
   "source": [
    "# display the total number of planets by using len and print.\n",
    "print('The total number of planets is:', len(planets), \"planets\")"
   ]
  },
  {
   "cell_type": "markdown",
   "metadata": {},
   "source": [
    "### Add a planet to the list\n",
    "Finally, add Pluto to the list that you created. Then display both the number of planets and the last planet in the list."
   ]
  },
  {
   "cell_type": "code",
   "execution_count": 12,
   "metadata": {},
   "outputs": [
    {
     "name": "stdout",
     "output_type": "stream",
     "text": [
      "The total number of planets is now: 9 planets\n",
      "The last planet in the list is: Pluto\n"
     ]
    }
   ],
   "source": [
    "# add Pluto to the list that you created. Then display both the number of planets and the last planet in the list.\n",
    "planets.append('Pluto')\n",
    "print('The total number of planets is now:', len(planets), \"planets\")\n",
    "print('The last planet in the list is:', planets[-1])\n"
   ]
  }
 ],
 "metadata": {
  "kernelspec": {
   "display_name": "base",
   "language": "python",
   "name": "python3"
  },
  "language_info": {
   "codemirror_mode": {
    "name": "ipython",
    "version": 3
   },
   "file_extension": ".py",
   "mimetype": "text/x-python",
   "name": "python",
   "nbconvert_exporter": "python",
   "pygments_lexer": "ipython3",
   "version": "3.11.7"
  }
 },
 "nbformat": 4,
 "nbformat_minor": 2
}
