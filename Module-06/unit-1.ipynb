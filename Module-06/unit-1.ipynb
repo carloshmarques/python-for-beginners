{
 "cells": [
  {
   "cell_type": "markdown",
   "metadata": {},
   "source": [
    "# Introduction\n",
    "\n",
    "As a developer, you'll frequently work with sets of data. You might need to manage multiple names, ages, or addresses. Storing each value in an individual variable makes code harder to read and write. To store multiple values, you can use a Python list.\n",
    "\n",
    "## Scenario: Working on a planetary app\n",
    "Imagine you're a developer who wants to create an application to work with a list of planets. You want to ask the user for the name of a planet and display the planets closer to and farther away from the sun.\n",
    "\n",
    "In this module, you'll learn how to use Python lists and some of the most common operations.\n",
    "\n",
    "## What will I learn?\n",
    "After completing this module, you'll be able to:\n",
    "\n",
    "* Identify when to use a list.\n",
    "* Create a list.\n",
    "* Access a particular item in a list by using indexes.\n",
    "* Push items to the end of a list.\n",
    "* Sort and slice a list."
   ]
  },
  {
   "cell_type": "markdown",
   "metadata": {},
   "source": [
    "## What is the main objective?\n",
    "By the end of this module, you'll understand when to use a list structure and how it can help organize your data."
   ]
  }
 ],
 "metadata": {
  "language_info": {
   "name": "python"
  }
 },
 "nbformat": 4,
 "nbformat_minor": 2
}
