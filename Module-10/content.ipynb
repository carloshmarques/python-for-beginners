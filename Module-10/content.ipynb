{
 "cells": [
  {
   "cell_type": "markdown",
   "metadata": {},
   "source": [
    "# Python error handling\n",
    "\n",
    "31 min,\n",
    "Module,\n",
    "8 Units\n",
    "\n",
    "* Beginner\n",
    "* Developer\n",
    "* Student\n",
    "* Azure\n",
    "\n",
    "Handle exceptions and create useful error messages. Improve your skills by using exceptions for code flow control.\n",
    "\n",
    "## Learning objectives\n",
    "By the end of this module, you'll be able to:\n",
    "\n",
    "* Read and use error output from exceptions.\n",
    "* Properly handle exceptions.\n",
    "* Raise exceptions with useful error messages.\n",
    "* Use exceptions to control a program's flow.\n",
    "\n",
    "### Prerequisites\n",
    "\n",
    "* Basic programming knowledge, like using and assigning variables.\n",
    "* Some experience with using Jupyter notebooks, including adding and modifying code.\n",
    "* (Optional) Visual Studio Code\n",
    "* Git\n",
    "#### This module is part of these learning paths\n",
    "\n",
    "**Python for beginners**"
   ]
  }
 ],
 "metadata": {
  "language_info": {
   "name": "python"
  }
 },
 "nbformat": 4,
 "nbformat_minor": 2
}
