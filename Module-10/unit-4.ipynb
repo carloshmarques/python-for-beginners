{
 "cells": [
  {
   "cell_type": "markdown",
   "metadata": {},
   "source": [
    "# Exercise: Handle exceptions\n",
    "With the knowledge of tracebacks and how exceptions are raised and handled, it's time to practice some of these concepts by using this notebook. We'll use a similar scenario where a program must read configuration values. Sometimes there can be errors in how the values are configured, which your program must be able to handle.\n",
    "\n",
    "This exercise is broken into a series of steps. For each step you will be presented with the goal for the step, followed by an empty cell. Enter your Python into the cell and run it. The solution for each step will follow each cell.\n",
    "\n",
    "### Loading configuration\n",
    "\n",
    "Imagine you are creating a program which will read configuration information from another source, such as a file. Because the contents are stored external to your program, there may be unexpected formatting or other mistakes.\n",
    "\n",
    "Start by creating a function which opens and reads the contents of the configuration file. Add a parameter to the function named path for the path to the configuration file.\n",
    "\n",
    "Run the cell below to simulate loading the configuration information."
   ]
  },
  {
   "cell_type": "code",
   "execution_count": null,
   "metadata": {},
   "outputs": [],
   "source": [
    "loaded_config = \"\"\"# Rocket Ship Configuration File!\n",
    "fuel_tanks=4\n",
    "oxygen_tanks=3\n",
    "initial_propulsion_level=84\n",
    "$ End of file\"\"\""
   ]
  },
  {
   "cell_type": "markdown",
   "metadata": {},
   "source": [
    "### Parse the configuration information\n",
    "For this scenario, you want to load any key/value information. The expected format is key=value. In Python you can use split to separate text based on a character, such as split('=').\n",
    "\n",
    "If you look at loaded_config, you will notice not all lines follow this format. As a result, we need to ensure the code gracefully handles any errors. If the character used for split isn't found, a ValueError is raised.\n",
    "\n",
    "In the cell below, add the code to parse loaded_config. Start by creating an empty dictionary using { } named parsed_config to store the parsed information. Use a for loop to split over each line using split('\\n'). Then use try to parse the line as mentioned above (using split('=')). If the parse succeeds, store the key/value pair in loaded_config. If ValueError is raised, display a message saying Unable to parse:  and the line with the incorrect format. Finish by displaying parsed_config."
   ]
  },
  {
   "cell_type": "code",
   "execution_count": 1,
   "metadata": {},
   "outputs": [
    {
     "ename": "NameError",
     "evalue": "name 'loaded_config' is not defined",
     "output_type": "error",
     "traceback": [
      "\u001b[0;31m---------------------------------------------------------------------------\u001b[0m",
      "\u001b[0;31mNameError\u001b[0m                                 Traceback (most recent call last)",
      "Cell \u001b[0;32mIn[1], line 2\u001b[0m\n\u001b[1;32m      1\u001b[0m parsed_config \u001b[38;5;241m=\u001b[39m {}\n\u001b[0;32m----> 2\u001b[0m \u001b[38;5;28;01mfor\u001b[39;00m line \u001b[38;5;129;01min\u001b[39;00m loaded_config\u001b[38;5;241m.\u001b[39msplit(\u001b[38;5;124m'\u001b[39m\u001b[38;5;130;01m\\n\u001b[39;00m\u001b[38;5;124m'\u001b[39m):\n\u001b[1;32m      3\u001b[0m     \u001b[38;5;28;01mtry\u001b[39;00m:\n\u001b[1;32m      4\u001b[0m         key, value \u001b[38;5;241m=\u001b[39m line\u001b[38;5;241m.\u001b[39msplit(\u001b[38;5;124m'\u001b[39m\u001b[38;5;124m=\u001b[39m\u001b[38;5;124m'\u001b[39m)\n",
      "\u001b[0;31mNameError\u001b[0m: name 'loaded_config' is not defined"
     ]
    }
   ],
   "source": [
    "parsed_config = {}\n",
    "for line in loaded_config.split('\\n'):\n",
    "    try:\n",
    "        key, value = line.split('=')\n",
    "        parsed_config[key] = value\n",
    "    except ValueError:\n",
    "        print(f\"Unable to parse line: {line}\")\n",
    "print(parsed_config)"
   ]
  }
 ],
 "metadata": {
  "kernelspec": {
   "display_name": "jupyter_env",
   "language": "python",
   "name": "python3"
  },
  "language_info": {
   "codemirror_mode": {
    "name": "ipython",
    "version": 3
   },
   "file_extension": ".py",
   "mimetype": "text/x-python",
   "name": "python",
   "nbconvert_exporter": "python",
   "pygments_lexer": "ipython3",
   "version": "3.12.7"
  }
 },
 "nbformat": 4,
 "nbformat_minor": 2
}
