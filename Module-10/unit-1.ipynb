{
 "cells": [
  {
   "cell_type": "markdown",
   "metadata": {},
   "source": [
    "# Introduction\n",
    "\n",
    "Even the best-written code will have errors. Errors can happen because of updates, moved files, or other unexpected changes. Fortunately, Python offers rich support for tracking down and handling errors.\n",
    "\n",
    "## Scenario: Build a rocket program\n",
    "Imagine you're a developer who's creating a program for a rocket. The program needs to read a configuration file to ensure that proper settings are loaded. Reading the file might cause an error if the file is missing or has other problems. In this module, you'll explore how to create the program.\n",
    "\n",
    "## What will I learn?\n",
    "By the end of this module, you'll be able to:\n",
    "\n",
    "* Read and use error output from exceptions.\n",
    "* Properly handle exceptions.\n",
    "* Raise exceptions with useful error messages.\n",
    "* Use exceptions to control a program's flow.\n",
    "\n",
    "## What is the main objective?\n",
    "In this module, you'll learn about using exception output for debugging, how to catch and raise exceptions, and how to affect a program's logic when exceptions happen.\n",
    "\n",
    "### Prerequisites\n",
    "You should be familiar with the concept of programming."
   ]
  }
 ],
 "metadata": {
  "kernelspec": {
   "display_name": "base",
   "language": "python",
   "name": "python3"
  },
  "language_info": {
   "name": "python",
   "version": "3.11.7"
  }
 },
 "nbformat": 4,
 "nbformat_minor": 2
}
