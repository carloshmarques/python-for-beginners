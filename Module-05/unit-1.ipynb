{
 "cells": [
  {
   "cell_type": "markdown",
   "metadata": {},
   "source": [
    "# Introduction\n",
    "\n",
    "### Math will be a part of almost every project you create throughout your journey as a developer. If you're a data scientist, you might be making rather complex calculations. If you're creating websites, you might be determining pricing or items in a shopping cart. Python, like any other programming language, provides numerous operators and libraries for performing mathematic operations.\n",
    "\n",
    "# Scenario: Create a program to calculate the distance between planets\n",
    "\n",
    "Imagine you're creating a program to calculate the distance between planets. The program enables a user to enter the distances of two planets from the sun, and calculates the distance between those two planets. Additionally, you want to provide the distance in both miles and kilometers."
   ]
  },
  {
   "cell_type": "markdown",
   "metadata": {},
   "source": [
    "## What will you learn?\n",
    "\n",
    "In this module, you'll explore the core mathematic capabilities of Python. You'll learn:\n",
    "\n",
    "* The mathematic operators available in Python.\n",
    "* The order of operations.\n",
    "* How to convert strings to numbers.\n",
    "\n",
    "## What is the main objective?\n",
    "Build on the power of math operators when you create a Python program."
   ]
  },
  {
   "cell_type": "code",
   "execution_count": null,
   "metadata": {},
   "outputs": [],
   "source": []
  }
 ],
 "metadata": {
  "language_info": {
   "name": "python"
  }
 },
 "nbformat": 4,
 "nbformat_minor": 2
}
