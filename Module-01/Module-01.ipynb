{
 "cells": [
  {
   "cell_type": "markdown",
   "metadata": {},
   "source": [
    "# Introduction\n",
    "\n",
    "### Python is one of the most popular and fastest growing programming languages in the world. It's used for all sorts of tasks, including web programming and data analysis, and it has emerged as the language to learn for machine learning. That popularity means Python developers are in demand, and Python programming jobs can be lucrative.\n",
    "\n",
    "The above-mentioned reasons are why it might be a good idea for you to learn how to program in Python. This module will provide an introduction to using Python to build an app, which can be a starting point to becoming a Python programmer.\n",
    "\n",
    "#### Learning objectives\n",
    "* In this module, you will:\n",
    "* Explore the choices available to run Python apps\n",
    "* Use the Python interpreter to execute statements and scripts\n",
    "* Learn how to declare variables\n",
    "* Build a simple Python app that takes input and produces output"
   ]
  },
  {
   "cell_type": "markdown",
   "metadata": {},
   "source": [
    "### Unit-2\n",
    "## What is Python?\n",
    "\n",
    "Python is one of the most popular programming languages in the world. Created in the early 1990s, Python can be employed for a wide range of uses, from automating repetitive tasks and writing web apps to building machine learning models and implementing neural networks. Researchers, mathematicians, and data scientists in particular like Python because of its rich and easy to understand syntax and the wide range of open-source packages available. Packages are shared code libraries that are freely available for anyone to use.\n",
    "\n",
    "Python has a simple, easy to learn syntax, which emphasizes readability. Applications written in Python can run on almost any computer, including those running Windows, macOS, and popular distributions of Linux. Furthermore, the ecosystem contains a rich set of development tools for writing, debugging, and publishing Python applications.\n",
    "\n",
    "Finally, Python is supported by an active user community that is eager to help new programmers learn the Pythonic way, where you don't just get the syntax right, but use the language the way it was intended."
   ]
  },
  {
   "cell_type": "markdown",
   "metadata": {},
   "source": [
    "#### Running Python code\n",
    "Python is an interpreted language, which reduces the edit-test-debug cycle because there's no compilation step required. In order to run Python apps, you need a runtime environment/interpreter to execute the code.\n",
    "\n",
    "Most of the runtime environments support two ways to execute Python code:\n",
    "\n",
    "Interactive mode: In this mode, each command you type is interpreted and executed immediately, and you see the results each time you press ENTER. The interactive mode is the default mode if you don't pass a filename to the interpreter.\n",
    "Script mode: In script mode, you put a set of Python statements into a text file with a .py extension. You then run the python interpreter and point it at the file. The program is executed line by line, and the output is displayed. There's no compilation step, as shown in the following diagram:\n",
    "Diagram showing the execution of a .py file through the Python interpreter.\n",
    "\n",
    "##### Note\n",
    "\n",
    "Most Python implementations partially compile scripts, turning the source code into byte code, which can run on any supported platform. This partial compile is done to improve performance for subsequent runs of the script and happens automatically. You can also generate a \"compiled\" version of the script and distribute an app without providing the full source code.\n",
    "\n",
    "Python implementations\n",
    "Python is licensed under the OSI open-source license, and there are several implementations available depending on your needs. Here are a few of the options available:\n",
    "\n",
    "CPython, the reference implementation: The most popular is the reference implementation (CPython), available from the Python website. CPython is commonly used for web development, application development, and scripting. There are install packages for Windows and macOS. Linux users can install Python using built-in package managers such as apt, yum, and Zypper. There's also an online playground where you can try Python statements right on the website. Finally, the complete source code is available, allowing you to build your own version of the interpreter.\n",
    "\n",
    "Anaconda: Anaconda is a specialized Python distribution tailored for scientific programming tasks, such as data science and machine learning. Check out more details on Anaconda here.\n",
    "\n",
    "Iron Python: Iron Python is an open-source implementation of Python built on the .NET runtime. Learn more about IronPython.\n",
    "\n",
    "Jupyter Notebook: Jupyter Notebook is a web-based interactive programming environment that supports various programming languages, including Python. Jupyter Notebooks are widely used in research and academia for mathematical modeling, machine learning, statistical analysis, and for teaching and learning how to code. Install Jupyter notebooks."
   ]
  },
  {
   "cell_type": "markdown",
   "metadata": {},
   "source": [
    "#### Unit 4\n",
    "##### Variables and basic data types in Python\n",
    "\n",
    "Variables are one of the fundamental building blocks of programs written in Python. Variables hold data in memory. They have names, and they can be referenced by those names. Variables also have types, which specify what type of data they can store (such as string and integer), and they can be used in expressions that use operators (such as + and -) to manipulate their values.\n",
    "\n",
    "##### Variables:\n",
    "In Python, a variable is declared and assigned a value using the assignment operator =. The variable is on the left-hand side of the operator, and the value being assigned — which can be an expression such as 2 + 2 and can even include other variables — is on the right-hand side. For example:\n",
    "\n",
    "\n",
    "* x = 1         # assign variable x the value 1\n",
    "* y = x + 5     # assign variable y the value of x plus 5\n",
    "* z = y         # assign variable z the value of y\n",
    "\n",
    "These examples assign numbers to variables, but numbers are just one of several data types Python supports. Notice there's no type declared for the variables. This is because Python is a dynamically typed language, meaning the variable type is determined by the data assigned to it. In the examples above, the x, y, and z variables are integer types, capable of storing positive and negative whole numbers.\n",
    "\n",
    "Variable names are case sensitive and can use any letter, number, and the underscore (_) character. However, they can't start with a number.\n",
    "\n",
    "##### Working with numbers\n",
    "Most programs manipulate numbers. Computers treat integer numbers and decimal numbers differently. Consider the following code:\n",
    "\n",
    "\n",
    "x = 1       # integer\n",
    "x = 1.0     # decimal (floating point)"
   ]
  },
  {
   "cell_type": "code",
   "execution_count": 7,
   "metadata": {},
   "outputs": [
    {
     "name": "stdout",
     "output_type": "stream",
     "text": [
      "<class 'int'>\n",
      "<class 'float'>\n"
     ]
    }
   ],
   "source": [
    "x = 1\n",
    "print(type(x)) # outputs: <class 'int'>\n",
    "\n",
    "x = 1.0\n",
    "print(type(x)) # outputs: <class 'float'>x = 1\n"
   ]
  },
  {
   "cell_type": "markdown",
   "metadata": {},
   "source": [
    "#### Working with booleans\n",
    "Another common data type is the Boolean type, which holds the value True or False:"
   ]
  },
  {
   "cell_type": "code",
   "execution_count": 8,
   "metadata": {},
   "outputs": [
    {
     "name": "stdout",
     "output_type": "stream",
     "text": [
      "<class 'bool'>\n"
     ]
    }
   ],
   "source": [
    "x = True\n",
    "print(type(x)) # outputs: <class 'bool'>"
   ]
  },
  {
   "cell_type": "markdown",
   "metadata": {},
   "source": [
    "Internally, bool is treated as a special type of integer. Technically, True has a value of 1 and False has a value of 0. Typically, Booleans aren't used to perform mathematical operations; rather, they're used to make decisions and perform branching. Nevertheless, it's interesting to understand the relationship between types. Many types are nothing more than specialized versions of more general types. Integers are a subset of floating point numbers, and Booleans are a subset of integers."
   ]
  },
  {
   "cell_type": "markdown",
   "metadata": {},
   "source": [
    "##### Working with strings\n",
    "Along with numbers, strings are among the most commonly used data types. A string is a collection of zero or more characters. Strings are commonly declared using single quotation marks, but you can also use double quotation marks:"
   ]
  },
  {
   "cell_type": "code",
   "execution_count": 12,
   "metadata": {},
   "outputs": [
    {
     "name": "stdout",
     "output_type": "stream",
     "text": [
      "This is a string\n",
      "<class 'str'>\n"
     ]
    }
   ],
   "source": [
    "x = 'This is a string'\n",
    "print(x) # outputs: This is a string\n",
    "print(type(x)) # outputs: <class 'str'>\n",
    "y = \"This is also a string\""
   ]
  },
  {
   "cell_type": "markdown",
   "metadata": {},
   "source": [
    "You can add strings to other strings — an operation known as \"concatenation\" — with the same + operator that adds two numbers:"
   ]
  },
  {
   "cell_type": "code",
   "execution_count": 10,
   "metadata": {},
   "outputs": [
    {
     "name": "stdout",
     "output_type": "stream",
     "text": [
      "Hello World!\n"
     ]
    }
   ],
   "source": [
    "x = 'Hello' + ' ' + 'World!'\n",
    "print(x) # outputs: Hello World!"
   ]
  },
  {
   "cell_type": "markdown",
   "metadata": {},
   "source": [
    "##### Print to the console\n",
    "In Python, the print function, which is one of more than 60 functions built into the language, outputs text to the screen.\n",
    "\n",
    "The following statement displays \"Hello World!\" on the screen:"
   ]
  },
  {
   "cell_type": "code",
   "execution_count": 11,
   "metadata": {},
   "outputs": [
    {
     "name": "stdout",
     "output_type": "stream",
     "text": [
      "Hello World!\n"
     ]
    }
   ],
   "source": [
    "print('Hello World!')"
   ]
  },
  {
   "cell_type": "markdown",
   "metadata": {},
   "source": [
    "The argument passed to print is a string, which is one of the fundamental data types in Python used to store and manage text. By default, print outputs a newline character at the end of the line, so subsequent calls to print will start on the next line."
   ]
  }
 ],
 "metadata": {
  "kernelspec": {
   "display_name": "base",
   "language": "python",
   "name": "python3"
  },
  "language_info": {
   "codemirror_mode": {
    "name": "ipython",
    "version": 3
   },
   "file_extension": ".py",
   "mimetype": "text/x-python",
   "name": "python",
   "nbconvert_exporter": "python",
   "pygments_lexer": "ipython3",
   "version": "3.11.7"
  }
 },
 "nbformat": 4,
 "nbformat_minor": 2
}
