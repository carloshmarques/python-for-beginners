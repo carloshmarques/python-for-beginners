{
 "cells": [
  {
   "cell_type": "markdown",
   "metadata": {},
   "source": [
    "# Introduction\n",
    "\n",
    "### Python is one of the most popular and fastest growing programming languages in the world. It's used for all sorts of tasks, including web programming and data analysis, and it has emerged as the language to learn for machine learning. That popularity means Python developers are in demand, and Python programming jobs can be lucrative.\n",
    "\n",
    "The above-mentioned reasons are why it might be a good idea for you to learn how to program in Python. This module will provide an introduction to using Python to build an app, which can be a starting point to becoming a Python programmer.\n",
    "\n",
    "#### Learning objectives\n",
    "* In this module, you will:\n",
    "* Explore the choices available to run Python apps\n",
    "* Use the Python interpreter to execute statements and scripts\n",
    "* Learn how to declare variables\n",
    "* Build a simple Python app that takes input and produces output"
   ]
  }
 ],
 "metadata": {
  "language_info": {
   "name": "python"
  }
 },
 "nbformat": 4,
 "nbformat_minor": 2
}
