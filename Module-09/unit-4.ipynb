{
 "cells": [
  {
   "cell_type": "markdown",
   "metadata": {},
   "source": [
    "# Exercise: Work with arguments in functions\n",
    "Required arguments in functions are used when functions need those arguments to work properly. In this exercise, you'll construct a fuel report that requires information from several fuel locations throughout the rocket ship.\n",
    "\n",
    "This exercise is broken into a series of steps. For each step you will be presented with the goal for the step, followed by an empty cell. Enter your Python into the cell and run it. The solution for each step will follow each cell.\n",
    "\n",
    "## Create a report generation function\n",
    "Your spaceship has three tanks: Main, External and Hydrogen. You want to create an app to display the amount of fuel in each tank, and the average amount of fuel between the three tanks. Because you wish to reuse this code in other projects, you want to create a function with the logic.\n",
    "\n",
    "Create a function named generate_report. The function will take three parameters named main_tank, external_tank and hydrogen_tank. When run, the function will display output which resembles the following:"
   ]
  },
  {
   "cell_type": "markdown",
   "metadata": {},
   "source": [
    "| Item | Item |\n",
    "|------|------|\n",
    "|Fuel report: |       |\n",
    "|    | Main tank: ## |\n",
    "|     | External tank: ## |\n",
    "|    | Hydrogen tank: ## |"
   ]
  },
  {
   "cell_type": "code",
   "execution_count": 4,
   "metadata": {},
   "outputs": [],
   "source": [
    "def generete_report(main_tank, externl_tank, hydrogen_tank):\n",
    "    output = f\"Main tank: {main_tank}\\nExternal tank: {externl_tank}\\nHydrogen tank: {hydrogen_tank}\"\n",
    "    print(output) \n"
   ]
  },
  {
   "cell_type": "markdown",
   "metadata": {},
   "source": [
    "Run the function\n",
    "With the function created, add the code to run the function with the following values:\n",
    "\n",
    "* Main tank: 80\n",
    "* External tank: 70\n",
    "* Hydrogen tank: 75"
   ]
  },
  {
   "cell_type": "code",
   "execution_count": 5,
   "metadata": {},
   "outputs": [
    {
     "name": "stdout",
     "output_type": "stream",
     "text": [
      "Main tank: 80\n",
      "External tank: 70\n",
      "Hydrogen tank: 75\n"
     ]
    }
   ],
   "source": [
    "generete_report(80, 70,75)"
   ]
  }
 ],
 "metadata": {
  "kernelspec": {
   "display_name": "base",
   "language": "python",
   "name": "python3"
  },
  "language_info": {
   "codemirror_mode": {
    "name": "ipython",
    "version": 3
   },
   "file_extension": ".py",
   "mimetype": "text/x-python",
   "name": "python",
   "nbconvert_exporter": "python",
   "pygments_lexer": "ipython3",
   "version": "3.11.7"
  }
 },
 "nbformat": 4,
 "nbformat_minor": 2
}
