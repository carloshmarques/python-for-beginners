{
 "cells": [
  {
   "cell_type": "markdown",
   "metadata": {},
   "source": [
    "# Introduction\n",
    "\n",
    "Using a Python function is the first step into coding after basic conditionals and data structures. Functions allow reusability, which avoids duplication of code. When projects reuse code with functions, they become more readable and maintainable.\n",
    "\n",
    "# Scenario: Organize data about a rocket\n",
    "Imagine you're creating a program to construct precise information about a space rocket. Reusable functions allow you to not just compute information but also compose new values by mixing inputs and outputs from other functions.\n",
    "\n",
    "# What will I learn?\n",
    "In this module, you'll learn to:\n",
    "\n",
    "* Use default, required, and wildcard inputs.\n",
    "* Make code reusable by extracting common patterns into separate functions.\n",
    "* Return values, data structures, or computed results.\n",
    "\n",
    "# What is the main objective?\n",
    "By the end of this module, you'll understand some of the rules and behavior associated with functions, including how to handle inputs and outputs.\n",
    "\n"
   ]
  }
 ],
 "metadata": {
  "language_info": {
   "name": "python"
  }
 },
 "nbformat": 4,
 "nbformat_minor": 2
}
