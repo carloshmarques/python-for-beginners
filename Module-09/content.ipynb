{
 "cells": [
  {
   "cell_type": "markdown",
   "metadata": {},
   "source": [
    "# Python functions\n",
    "\n",
    "The next step after using procedural code is to write modular software by using functions. Functions, from simple ones to multiple-argument ones, are useful in making code reusable.\n",
    "\n",
    "## Learning objectives\n",
    "By the end of this module, you'll be able to:\n",
    "\n",
    "* Use functions with various types of return values.\n",
    "* Implement formatting techniques.\n",
    "\n",
    "### Prerequisites\n",
    "* Basic programming knowledge, like using and assigning variables.\n",
    "* Some experience with using Jupyter notebooks, including adding and modifying code.\n",
    "\n",
    "This module is part of these learning paths\n",
    "Python for beginners"
   ]
  }
 ],
 "metadata": {
  "language_info": {
   "name": "python"
  }
 },
 "nbformat": 4,
 "nbformat_minor": 2
}
