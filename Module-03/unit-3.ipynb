{
 "cells": [
  {
   "cell_type": "markdown",
   "metadata": {},
   "source": [
    "## What are 'else' and 'elif' statements?\n",
    "\n",
    "#### What if you also want your program to run a piece of code when your test expression is False? Or what if you want to include another test expression? Python has other keywords you can use to make more complex if statements, else and elif. When you use if, else, and elif in combination, you can write complex programs with multiple test expressions and statements to run.\n",
    "\n",
    "#### Work with else\n",
    "You know that when you use an if statement, the body of the program will run only if the test expression is True. To add more code that will run when your test expression is False, you need to add an else statement.\n",
    "\n",
    "Let's adapt an example from the previous section:"
   ]
  },
  {
   "cell_type": "code",
   "execution_count": 1,
   "metadata": {},
   "outputs": [],
   "source": [
    "a = 27\n",
    "b = 93\n",
    "if a >= b:\n",
    "    print(a)"
   ]
  },
  {
   "cell_type": "markdown",
   "metadata": {},
   "source": [
    "In this example, if a isn't greater than or equal to b, nothing happens. Let's say you want to instead print b if the test expression is False:"
   ]
  },
  {
   "cell_type": "code",
   "execution_count": 2,
   "metadata": {},
   "outputs": [
    {
     "name": "stdout",
     "output_type": "stream",
     "text": [
      "93\n"
     ]
    }
   ],
   "source": [
    "a = 27\n",
    "b = 93\n",
    "if a >= b:\n",
    "    print(a)\n",
    "else:\n",
    "    print(b)"
   ]
  },
  {
   "cell_type": "markdown",
   "metadata": {},
   "source": [
    "If the test expression is False, the code in the body of the if statement is skipped, and the program continues running from the else statement. The syntax of an if/else statement is always:"
   ]
  },
  {
   "cell_type": "code",
   "execution_count": null,
   "metadata": {},
   "outputs": [],
   "source": [
    "if test_expression:\n",
    "    # statement(s) to be run\n",
    "else:\n",
    "    # statement(s) to be run"
   ]
  },
  {
   "cell_type": "markdown",
   "metadata": {},
   "source": [
    "### Work with elif\n",
    "#### In Python, the keyword elif is short for else if. Using elif statements enables you to add multiple test expressions to your program. These statements run in the order in which they're written, so your program will enter an elif statement only if the first if statement is False. \n",
    "* For example:"
   ]
  },
  {
   "cell_type": "code",
   "execution_count": 3,
   "metadata": {},
   "outputs": [
    {
     "name": "stdout",
     "output_type": "stream",
     "text": [
      "a is less than or equal to b\n"
     ]
    }
   ],
   "source": [
    "a = 27\n",
    "b = 93\n",
    "if a <= b:\n",
    "    print(\"a is less than or equal to b\")\n",
    "elif a == b:\n",
    "    print(\"a is equal to b\")"
   ]
  },
  {
   "cell_type": "markdown",
   "metadata": {},
   "source": [
    "In this variation, the elif statement in the block of code won't run, because the if statement is True.\n",
    "\n",
    "The syntax of an if/elif statement is:"
   ]
  },
  {
   "cell_type": "code",
   "execution_count": null,
   "metadata": {},
   "outputs": [],
   "source": [
    "if test_expression:\n",
    "    # statement(s) to be run\n",
    "elif test_expression:\n",
    "    # statement(s) to be run"
   ]
  },
  {
   "cell_type": "markdown",
   "metadata": {},
   "source": [
    "### Combine if, elif, and else statements\n",
    "#### You can combine if, elif, and else statements to create programs with complex conditional logic. Remember that an elif statement is run only when the if condition is false. Also note that an if block can have only one else block, but it can have multiple elif blocks.\n",
    "\n",
    "* Let's look at an example with an if, an elif and an else statement:"
   ]
  },
  {
   "cell_type": "code",
   "execution_count": 5,
   "metadata": {},
   "outputs": [
    {
     "name": "stdout",
     "output_type": "stream",
     "text": [
      "a is less than b\n"
     ]
    }
   ],
   "source": [
    "a = 27\n",
    "b = 93\n",
    "if a < b:\n",
    "    print(\"a is less than b\")\n",
    "elif a > b:\n",
    "    print(\"a is greater than b\")\n",
    "else: \n",
    "    print (\"a is equal to b\")"
   ]
  },
  {
   "cell_type": "markdown",
   "metadata": {},
   "source": [
    "A code block that uses all three types of statements has the following syntax:"
   ]
  },
  {
   "cell_type": "code",
   "execution_count": null,
   "metadata": {},
   "outputs": [],
   "source": [
    "if test_expression:\n",
    "    # statement(s) to be run\n",
    "elif test_expression:\n",
    "    # statement(s) to be run\n",
    "elif test_expression:\n",
    "    # statement(s) to be run\n",
    "else:\n",
    "    # statement(s) to be run"
   ]
  },
  {
   "cell_type": "markdown",
   "metadata": {},
   "source": [
    "### Work with nested conditional logic\n",
    "### Python also supports nested conditional logic, meaning that you can nest if, elif, and else statements to create even more complex programs. To nest conditions, indent the inner conditions, and everything at the same level of indentation will be run in the same code block:"
   ]
  },
  {
   "cell_type": "code",
   "execution_count": 6,
   "metadata": {},
   "outputs": [
    {
     "name": "stdout",
     "output_type": "stream",
     "text": [
      "a is less than b\n"
     ]
    }
   ],
   "source": [
    "a = 16\n",
    "b = 25\n",
    "c = 27\n",
    "if a > b:\n",
    "    if b > c:\n",
    "        print (\"a is greater than b and b is greater than c\")\n",
    "    else: \n",
    "        print (\"a is greater than b and less than c\")\n",
    "elif a == b:\n",
    "    print (\"a is equal to b\")\n",
    "else:\n",
    "    print (\"a is less than b\")"
   ]
  },
  {
   "cell_type": "markdown",
   "metadata": {},
   "source": [
    "This piece of code produces the output a is less than b.\n",
    "\n",
    "Nested conditional logic follows the same rules as regular conditional logic within each code block. Here's one example of the syntax:"
   ]
  },
  {
   "cell_type": "code",
   "execution_count": null,
   "metadata": {},
   "outputs": [],
   "source": [
    "if test_expression:\n",
    "    # statement(s) to be run\n",
    "    if test_expression:\n",
    "        # statement(s) to be run\n",
    "    else: \n",
    "        # statement(s) to be run\n",
    "elif test_expression:\n",
    "    # statement(s) to be run\n",
    "    if test_expression:\n",
    "        # statement(s) to be run\n",
    "    else: \n",
    "        # statement(s) to be run\n",
    "else:\n",
    "    # statement(s) to be run"
   ]
  }
 ],
 "metadata": {
  "kernelspec": {
   "display_name": "base",
   "language": "python",
   "name": "python3"
  },
  "language_info": {
   "codemirror_mode": {
    "name": "ipython",
    "version": 3
   },
   "file_extension": ".py",
   "mimetype": "text/x-python",
   "name": "python",
   "nbconvert_exporter": "python",
   "pygments_lexer": "ipython3",
   "version": "3.11.7"
  }
 },
 "nbformat": 4,
 "nbformat_minor": 2
}
