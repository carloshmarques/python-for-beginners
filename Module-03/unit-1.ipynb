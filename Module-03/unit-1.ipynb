{
 "cells": [
  {
   "cell_type": "markdown",
   "metadata": {},
   "source": [
    "# Introduction\n",
    "\n",
    "### Booleans are a common type in Python. Their value can only ever be one of two things: true or false. Understanding how to use Boolean values is critical, because you need them to write conditional logic.\n",
    "\n",
    "### Scenario: Print warning messages\n",
    "#### Suppose you're creating a program that identifies if a piece of space debris is a danger to a spacecraft. If the object is larger than a specified size and will come within range of the spacecraft, a maneuver needs to be performed to avoid a collision. Otherwise, the spacecraft can stay on course.\n",
    "\n",
    "* In this module, you'll use Boolean keywords and operators to write several types of conditional expressions, and determine the spacecraft's reaction.\n",
    "\n",
    "### What will you learn?\n",
    "By the end of this module, you'll be able to:\n",
    "\n",
    "* Run code under various conditions by using if, else, and elif statements.\n",
    "* Combine conditional logic and create more complex conditions by using and and or operators.\n",
    "### What is the main objective?\n",
    "This module teaches you how to use conditional logic to create decision-driven programs.\n",
    "\n",
    "### Prerequisites\n",
    "* You should be familiar with the concept of programming.\n",
    "\n",
    "* You don't need to install Python to complete this module. You'll use an interactive sandbox to complete the exercises.\n",
    "\n",
    "* If you want to try out the code in the explanations, you might want to work through Get started with Python in Visual Studio Code first, if you haven't already. This module helps you prepare a Python environment."
   ]
  }
 ],
 "metadata": {
  "kernelspec": {
   "display_name": "base",
   "language": "python",
   "name": "python3"
  },
  "language_info": {
   "name": "python",
   "version": "3.11.7"
  }
 },
 "nbformat": 4,
 "nbformat_minor": 2
}
