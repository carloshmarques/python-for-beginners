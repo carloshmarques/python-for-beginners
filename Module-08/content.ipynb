{
 "cells": [
  {
   "cell_type": "markdown",
   "metadata": {},
   "source": [
    "# Manage data with Python dictionaries\n",
    "\n",
    "Python dictionaries allow you to model complex data. This module explores common scenarios where you could use dictionaries.\n",
    "\n",
    "## Learning objectives\n",
    "By the end of this module, you'll be able to:\n",
    "\n",
    "* Identify when to use a dictionary.\n",
    "* Create and modify data inside a dictionary.\n",
    "* Utilize keys and values methods to access dictionary data.\n",
    "\n",
    "### Prerequisites\n",
    "\n",
    "* Basic Python programming knowledge, which includes use of variables, strings, integers, and math.\n",
    "* Experience working with lists in Python.\n",
    "* Experience modifying and running code in Jupyter notebooks.\n",
    "\n",
    "### This module is part of these learning paths\n",
    "Python for beginners"
   ]
  }
 ],
 "metadata": {
  "language_info": {
   "name": "python"
  }
 },
 "nbformat": 4,
 "nbformat_minor": 2
}
