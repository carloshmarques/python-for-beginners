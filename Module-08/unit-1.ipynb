{
 "cells": [
  {
   "cell_type": "markdown",
   "metadata": {},
   "source": [
    "# Introduction\n",
    "\n",
    "You'll frequently need to work with more complex data than strings and Boolean values. This module provides you with tools for doing so. Let's frame the subject by considering a scenario.\n",
    "\n",
    "## Scenario: Analyzing a solar system\n",
    "Suppose you're creating a program to analyze the number of moons on different planets in the solar system. You want to display information to the user and be able to calculate different values, like the total number of moons in the solar system. It would be tedious to do this calculation with variables, which can only store a string, or a number.\n",
    "\n",
    "In this module, you'll build a program that can perform these types of operations. You'll use Python dictionaries to model the data. By the end of the module, you'll be able to use Python dictionaries to store complex data.\n",
    "\n",
    "### What will I learn?\n",
    "In this module, you'll be able to:\n",
    "\n",
    "* Identify when to use a dictionary.\n",
    "* Create and modify data inside a dictionary.\n",
    "* Use dictionary methods to access dictionary data.\n",
    "\n",
    "#### What is the main objective?\n",
    "Use a dictionary structure within your app to store data in a format that makes it easy to look up values."
   ]
  }
 ],
 "metadata": {
  "language_info": {
   "name": "python"
  }
 },
 "nbformat": 4,
 "nbformat_minor": 2
}
