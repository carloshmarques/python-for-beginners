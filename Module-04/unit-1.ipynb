{
 "cells": [
  {
   "cell_type": "markdown",
   "metadata": {},
   "source": [
    "# Introduction\n",
    "\n",
    "## Python strings are one of the most important and common types in the language. Learning how to interact with strings, including formatting and replacing text, is an essential skill to develop for working with Python code.\n",
    "\n",
    "### Scenario: Create a program to describe facts about the Moon\n",
    "Imagine that you're creating a program to describe some measurements and other information about the Moon. You'll need to use various string operations to create the output.\n",
    "\n",
    "# What will you learn?\n",
    "#### By the end of this module, you'll be able to:\n",
    "\n",
    "* Use special string methods.\n",
    "* Use variables to introduce values in text.\n",
    "* Apply other advanced formatting techniques to change how text is presented.\n",
    "* What is the main objective?\n",
    "* In this module, you'll incorporate string operations when you create a Python program.\n",
    "\n",
    "## Prerequisites\n",
    "* You should be familiar with the concept of programming.\n",
    "\n"
   ]
  }
 ],
 "metadata": {
  "language_info": {
   "name": "python"
  }
 },
 "nbformat": 4,
 "nbformat_minor": 2
}
